{
  "cells": [
    {
      "cell_type": "markdown",
      "metadata": {
        "id": "view-in-github",
        "colab_type": "text"
      },
      "source": [
        "<a href=\"https://colab.research.google.com/github/Sirinegaida/deep_learning/blob/main/Untitled1.ipynb\" target=\"_parent\"><img src=\"https://colab.research.google.com/assets/colab-badge.svg\" alt=\"Open In Colab\"/></a>"
      ]
    },
    {
      "cell_type": "code",
      "execution_count": null,
      "id": "independent-vegetation",
      "metadata": {
        "id": "independent-vegetation",
        "outputId": "83d16287-3b69-43b5-eeaf-f77445c9add7"
      },
      "outputs": [
        {
          "ename": "ModuleNotFoundError",
          "evalue": "No module named 'perceptron'",
          "output_type": "error",
          "traceback": [
            "\u001b[1;31m---------------------------------------------------------------------------\u001b[0m",
            "\u001b[1;31mModuleNotFoundError\u001b[0m                       Traceback (most recent call last)",
            "\u001b[1;32m<ipython-input-3-745bf70e36ac>\u001b[0m in \u001b[0;36m<module>\u001b[1;34m\u001b[0m\n\u001b[0;32m      1\u001b[0m \u001b[1;32mimport\u001b[0m \u001b[0mnumpy\u001b[0m \u001b[1;32mas\u001b[0m \u001b[0mnp\u001b[0m\u001b[1;33m\u001b[0m\u001b[1;33m\u001b[0m\u001b[0m\n\u001b[1;32m----> 2\u001b[1;33m \u001b[1;32mfrom\u001b[0m \u001b[0mperceptron\u001b[0m \u001b[1;32mimport\u001b[0m \u001b[0mPerceptron\u001b[0m\u001b[1;33m\u001b[0m\u001b[1;33m\u001b[0m\u001b[0m\n\u001b[0m",
            "\u001b[1;31mModuleNotFoundError\u001b[0m: No module named 'perceptron'"
          ]
        }
      ],
      "source": [
        "import numpy as np\n",
        "from perceptron import Perceptron"
      ]
    },
    {
      "cell_type": "code",
      "execution_count": null,
      "id": "moderate-milton",
      "metadata": {
        "id": "moderate-milton"
      },
      "outputs": [],
      "source": [
        "training_inputs = []\n",
        "training_inputs.append(np.array([1, 1]))\n",
        "training_inputs.append(np.array([1, 0]))\n",
        "training_inputs.append(np.array([0, 1]))\n",
        "training_inputs.append(np.array([0, 0]))"
      ]
    },
    {
      "cell_type": "code",
      "execution_count": null,
      "id": "early-tuesday",
      "metadata": {
        "id": "early-tuesday"
      },
      "outputs": [],
      "source": [
        "labels = np.array([1, 0, 0, 0])"
      ]
    },
    {
      "cell_type": "code",
      "execution_count": null,
      "id": "suited-costume",
      "metadata": {
        "id": "suited-costume"
      },
      "outputs": [],
      "source": [
        "perceptron = Perceptron(2)\n",
        "perceptron.train(training_inputs, labels)"
      ]
    },
    {
      "cell_type": "code",
      "execution_count": null,
      "id": "sensitive-mumbai",
      "metadata": {
        "id": "sensitive-mumbai"
      },
      "outputs": [],
      "source": [
        "inputs = np.array([1, 1])\n",
        "perceptron.predict(inputs) \n",
        "#=> 1"
      ]
    },
    {
      "cell_type": "code",
      "execution_count": null,
      "id": "rental-saint",
      "metadata": {
        "id": "rental-saint"
      },
      "outputs": [],
      "source": [
        "inputs = np.array([0, 1])\n",
        "perceptron.predict(inputs) \n",
        "#=> 0"
      ]
    }
  ],
  "metadata": {
    "kernelspec": {
      "display_name": "Python 3",
      "language": "python",
      "name": "python3"
    },
    "language_info": {
      "codemirror_mode": {
        "name": "ipython",
        "version": 3
      },
      "file_extension": ".py",
      "mimetype": "text/x-python",
      "name": "python",
      "nbconvert_exporter": "python",
      "pygments_lexer": "ipython3",
      "version": "3.8.5"
    },
    "colab": {
      "provenance": [],
      "include_colab_link": true
    }
  },
  "nbformat": 4,
  "nbformat_minor": 5
}