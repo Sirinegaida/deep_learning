{
  "cells": [
    {
      "cell_type": "markdown",
      "metadata": {
        "id": "view-in-github",
        "colab_type": "text"
      },
      "source": [
        "<a href=\"https://colab.research.google.com/github/Sirinegaida/deep_learning/blob/main/Untitled.ipynb\" target=\"_parent\"><img src=\"https://colab.research.google.com/assets/colab-badge.svg\" alt=\"Open In Colab\"/></a>"
      ]
    },
    {
      "cell_type": "code",
      "execution_count": null,
      "id": "confidential-corporation",
      "metadata": {
        "id": "confidential-corporation"
      },
      "outputs": [],
      "source": [
        "import numpy as np"
      ]
    },
    {
      "cell_type": "code",
      "execution_count": null,
      "id": "welsh-clark",
      "metadata": {
        "id": "welsh-clark"
      },
      "outputs": [],
      "source": [
        "class Perceptron(object):\n",
        "    \n",
        "    def __init__(self, no_of_inputs, threshold=100, learning_rate=0.01):\n",
        "        # no_of_inputs : to determine how many weights we need to learn\n",
        "        # threshold : the number of iteration\n",
        "        # learning_rate : added weights during each step\n",
        "        self.threshold = threshold        \n",
        "        self.learning_rate = learning_rate\n",
        "        \n",
        "        # initialize our weight vector\n",
        "        self.weights = np.zeros(no_of_inputs + 1)\n",
        "        \n",
        "    def predict(self, inputs):\n",
        "        summation = np.dot(inputs, self.weights[1:]) + self.weights[0]\n",
        "        if summation > 0:          \n",
        "          activiation = 1        \n",
        "        else:          \n",
        "          activation = 0\n",
        "        return activation\n",
        "    def train(self, training_inputs, labels):\n",
        "        for _ in range(self.threshold):\n",
        "            for inputs, label in zip(training_inputs, labels):\n",
        "                prediction = self.predict(inputs)\n",
        "                self.weights[1:] += self.learning_rate * (label - prediction) * inputs\n",
        "                self.weights[0] += self.learning_rate * (label - prediction)\n",
        "\n",
        "                "
      ]
    }
  ],
  "metadata": {
    "kernelspec": {
      "display_name": "Python 3",
      "language": "python",
      "name": "python3"
    },
    "language_info": {
      "codemirror_mode": {
        "name": "ipython",
        "version": 3
      },
      "file_extension": ".py",
      "mimetype": "text/x-python",
      "name": "python",
      "nbconvert_exporter": "python",
      "pygments_lexer": "ipython3",
      "version": "3.8.5"
    },
    "colab": {
      "provenance": [],
      "include_colab_link": true
    }
  },
  "nbformat": 4,
  "nbformat_minor": 5
}